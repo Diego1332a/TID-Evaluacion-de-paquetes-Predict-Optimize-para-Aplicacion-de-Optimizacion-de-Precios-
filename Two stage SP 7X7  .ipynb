{
 "cells": [
  {
   "cell_type": "code",
   "execution_count": 1,
   "id": "2757b037-525d-48c6-8102-01162d7f29e3",
   "metadata": {},
   "outputs": [
    {
     "name": "stdout",
     "output_type": "stream",
     "text": [
      "Requirement already satisfied: pyepo in c:\\users\\administrador\\anaconda3\\lib\\site-packages (0.3.8)\n",
      "Requirement already satisfied: numpy in c:\\users\\administrador\\anaconda3\\lib\\site-packages (from pyepo) (1.26.4)\n",
      "Requirement already satisfied: scipy in c:\\users\\administrador\\anaconda3\\lib\\site-packages (from pyepo) (1.11.4)\n",
      "Requirement already satisfied: pathos in c:\\users\\administrador\\anaconda3\\lib\\site-packages (from pyepo) (0.3.2)\n",
      "Requirement already satisfied: tqdm in c:\\users\\administrador\\anaconda3\\lib\\site-packages (from pyepo) (4.65.0)\n",
      "Requirement already satisfied: Pyomo>=6.1.2 in c:\\users\\administrador\\anaconda3\\lib\\site-packages (from pyepo) (6.7.2)\n",
      "Requirement already satisfied: gurobipy>=9.1.2 in c:\\users\\administrador\\anaconda3\\lib\\site-packages (from pyepo) (11.0.2)\n",
      "Requirement already satisfied: scikit-learn in c:\\users\\administrador\\anaconda3\\lib\\site-packages (from pyepo) (1.2.2)\n",
      "Requirement already satisfied: torch>=1.13.1 in c:\\users\\administrador\\anaconda3\\lib\\site-packages (from pyepo) (2.3.0)\n",
      "Requirement already satisfied: ply in c:\\users\\administrador\\anaconda3\\lib\\site-packages (from Pyomo>=6.1.2->pyepo) (3.11)\n",
      "Requirement already satisfied: filelock in c:\\users\\administrador\\anaconda3\\lib\\site-packages (from torch>=1.13.1->pyepo) (3.13.1)\n",
      "Requirement already satisfied: typing-extensions>=4.8.0 in c:\\users\\administrador\\anaconda3\\lib\\site-packages (from torch>=1.13.1->pyepo) (4.9.0)\n",
      "Requirement already satisfied: sympy in c:\\users\\administrador\\anaconda3\\lib\\site-packages (from torch>=1.13.1->pyepo) (1.12)\n",
      "Requirement already satisfied: networkx in c:\\users\\administrador\\anaconda3\\lib\\site-packages (from torch>=1.13.1->pyepo) (3.1)\n",
      "Requirement already satisfied: jinja2 in c:\\users\\administrador\\anaconda3\\lib\\site-packages (from torch>=1.13.1->pyepo) (3.1.3)\n",
      "Requirement already satisfied: fsspec in c:\\users\\administrador\\anaconda3\\lib\\site-packages (from torch>=1.13.1->pyepo) (2023.10.0)\n",
      "Requirement already satisfied: mkl<=2021.4.0,>=2021.1.1 in c:\\users\\administrador\\anaconda3\\lib\\site-packages (from torch>=1.13.1->pyepo) (2021.4.0)\n",
      "Requirement already satisfied: ppft>=1.7.6.8 in c:\\users\\administrador\\anaconda3\\lib\\site-packages (from pathos->pyepo) (1.7.6.8)\n",
      "Requirement already satisfied: dill>=0.3.8 in c:\\users\\administrador\\anaconda3\\lib\\site-packages (from pathos->pyepo) (0.3.8)\n",
      "Requirement already satisfied: pox>=0.3.4 in c:\\users\\administrador\\anaconda3\\lib\\site-packages (from pathos->pyepo) (0.3.4)\n",
      "Requirement already satisfied: multiprocess>=0.70.16 in c:\\users\\administrador\\anaconda3\\lib\\site-packages (from pathos->pyepo) (0.70.16)\n",
      "Requirement already satisfied: joblib>=1.1.1 in c:\\users\\administrador\\anaconda3\\lib\\site-packages (from scikit-learn->pyepo) (1.2.0)\n",
      "Requirement already satisfied: threadpoolctl>=2.0.0 in c:\\users\\administrador\\anaconda3\\lib\\site-packages (from scikit-learn->pyepo) (2.2.0)\n",
      "Requirement already satisfied: colorama in c:\\users\\administrador\\anaconda3\\lib\\site-packages (from tqdm->pyepo) (0.4.6)\n",
      "Requirement already satisfied: intel-openmp==2021.* in c:\\users\\administrador\\anaconda3\\lib\\site-packages (from mkl<=2021.4.0,>=2021.1.1->torch>=1.13.1->pyepo) (2021.4.0)\n",
      "Requirement already satisfied: tbb==2021.* in c:\\users\\administrador\\anaconda3\\lib\\site-packages (from mkl<=2021.4.0,>=2021.1.1->torch>=1.13.1->pyepo) (2021.12.0)\n",
      "Requirement already satisfied: MarkupSafe>=2.0 in c:\\users\\administrador\\anaconda3\\lib\\site-packages (from jinja2->torch>=1.13.1->pyepo) (2.1.3)\n",
      "Requirement already satisfied: mpmath>=0.19 in c:\\users\\administrador\\anaconda3\\lib\\site-packages (from sympy->torch>=1.13.1->pyepo) (1.3.0)\n",
      "Note: you may need to restart the kernel to use updated packages.\n"
     ]
    }
   ],
   "source": [
    "pip install pyepo"
   ]
  },
  {
   "cell_type": "code",
   "execution_count": 2,
   "id": "74ecee6f-e220-49cf-ab84-a4ab19835e09",
   "metadata": {},
   "outputs": [
    {
     "name": "stdout",
     "output_type": "stream",
     "text": [
      "Requirement already satisfied: gurobi-machinelearning in c:\\users\\administrador\\anaconda3\\lib\\site-packages (1.5.0.post1)\n",
      "Requirement already satisfied: numpy>=1.22.0 in c:\\users\\administrador\\anaconda3\\lib\\site-packages (from gurobi-machinelearning) (1.26.4)\n",
      "Requirement already satisfied: gurobipy>=10.0.0 in c:\\users\\administrador\\anaconda3\\lib\\site-packages (from gurobi-machinelearning) (11.0.2)\n",
      "Requirement already satisfied: scipy>=1.9.3 in c:\\users\\administrador\\anaconda3\\lib\\site-packages (from gurobi-machinelearning) (1.11.4)\n",
      "Note: you may need to restart the kernel to use updated packages.\n"
     ]
    }
   ],
   "source": [
    "pip install gurobi-machinelearning"
   ]
  },
  {
   "cell_type": "code",
   "execution_count": 11,
   "id": "1e89d69c-2094-4d80-a74e-c8ceed333340",
   "metadata": {},
   "outputs": [],
   "source": [
    "import pyepo\n",
    "import torch\n",
    "from sklearn.linear_model import LinearRegression\n",
    "from sklearn.metrics import mean_squared_error\n",
    "from sklearn.model_selection import train_test_split\n",
    "import numpy as np\n",
    "import matplotlib.pyplot as plt\n",
    "import gurobi_ml\n"
   ]
  },
  {
   "cell_type": "code",
   "execution_count": 13,
   "id": "b644d28c-f6ff-41b1-840e-e1fb325cfab4",
   "metadata": {},
   "outputs": [],
   "source": [
    "import time\n",
    "\n",
    "# Iniciar temporizador para la etapa de entrenamiento\n",
    "start_time_train = time.time()"
   ]
  },
  {
   "cell_type": "code",
   "execution_count": 15,
   "id": "c952732b-8275-4d32-9e4f-122e48dba843",
   "metadata": {},
   "outputs": [
    {
     "name": "stdout",
     "output_type": "stream",
     "text": [
      "Tiempo de entrenamiento: 0.36 segundos\n",
      "Tiempo de predicción: 0.01 segundos\n"
     ]
    }
   ],
   "source": [
    "\n",
    "# model for shortest path\n",
    "grid = (7,7)  # grid size\n",
    "optmodel = pyepo.model.grb.shortestPathModel(grid)\n",
    "\n",
    "# generate data\n",
    "num_data = 1000  # number of data\n",
    "num_feat = 7  # size of feature\n",
    "deg = 4  # polynomial degree\n",
    "noise_width = 0.5  # noise width\n",
    "x, c = pyepo.data.shortestpath.genData(num_data+1000, num_feat, grid, deg, noise_width, seed=73)\n",
    "\n",
    "# Split the data into training and test sets\n",
    "x_train, x_test, c_train, c_test = train_test_split(x, c, test_size=0.5, random_state=73)\n",
    "\n",
    "# sklearn regressor\n",
    "reg = LinearRegression()  # linear regression\n",
    "\n",
    "# build model\n",
    "twostage_model = pyepo.twostage.sklearnPred(reg)\n",
    "\n",
    "# training\n",
    "twostage_model.fit(x_train, c_train)\n",
    "\n",
    "# Calcular el tiempo de entrenamiento\n",
    "train_time = time.time() - start_time_train\n",
    "print(\"Tiempo de entrenamiento: {:.2f} segundos\".format(train_time))\n",
    "\n",
    "# Iniciar temporizador para la etapa de predicción\n",
    "start_time_predict = time.time()\n",
    "\n",
    "# prediction\n",
    "c_pred = twostage_model.predict(x_test)\n",
    "\n",
    "# Calcular el tiempo de predicción\n",
    "predict_time = time.time() - start_time_predict\n",
    "print(\"Tiempo de predicción: {:.2f} segundos\".format(predict_time))\n",
    "\n"
   ]
  },
  {
   "cell_type": "code",
   "execution_count": 16,
   "id": "71d357d6-d3f1-4b46-9663-4cdddac7f74c",
   "metadata": {},
   "outputs": [
    {
     "name": "stdout",
     "output_type": "stream",
     "text": [
      "MSE for Two Stage Model:  0.16096583759774205\n"
     ]
    }
   ],
   "source": [
    "\n",
    "# Calculate MSE\n",
    "mse = mean_squared_error(c_test, c_pred)\n",
    "\n",
    "# Print MSE\n",
    "print(\"MSE for Two Stage Model: \", mse)\n"
   ]
  },
  {
   "cell_type": "code",
   "execution_count": 19,
   "id": "2c4b3264-b258-4720-b461-be011e014837",
   "metadata": {},
   "outputs": [],
   "source": [
    "\n",
    "A=optmodel.solve() # solvel"
   ]
  },
  {
   "cell_type": "code",
   "execution_count": 21,
   "id": "e80cbc8e-85ca-401a-a3f5-e31d19c7ff90",
   "metadata": {},
   "outputs": [
    {
     "name": "stdout",
     "output_type": "stream",
     "text": [
      "Matriz de soluciones:\n",
      "[[1. 1. 1. 1. 1. 1. 0. 0. 0. 0. 0. 0. 1. 0. 0. 0. 0. 0. 0. 0. 0. 0. 0. 0.\n",
      "  0. 1. 0. 0. 0. 0. 0. 0. 0. 0. 0. 0. 0. 0. 1. 0. 0. 0. 0. 0. 0. 0. 0. 0.\n",
      "  0. 0. 0. 1. 0. 0. 0. 0. 0. 0. 0. 0. 0. 0. 0. 0. 1. 0. 0. 0. 0. 0. 0. 0.\n",
      "  0. 0. 0. 0. 0. 1. 0. 0. 0. 0. 0. 0.]]\n"
     ]
    }
   ],
   "source": [
    "# Extraer la lista de soluciones del tuple\n",
    "soluciones = A[0]\n",
    "\n",
    "# Convertir la lista en un array de NumPy\n",
    "soluciones_array = np.array(soluciones)\n",
    "\n",
    "soluciones_matrix = soluciones_array.reshape(1, -1)\n",
    "\n",
    "print(\"Matriz de soluciones:\")\n",
    "print(soluciones_matrix)"
   ]
  },
  {
   "cell_type": "code",
   "execution_count": 23,
   "id": "a5c97827-26b1-4288-a04e-a19e175987ef",
   "metadata": {},
   "outputs": [
    {
     "name": "stdout",
     "output_type": "stream",
     "text": [
      "Dimensiones de A: (84,)\n",
      "Dimensiones de c_pred: (1000, 84)\n"
     ]
    }
   ],
   "source": [
    "print(\"Dimensiones de A:\", soluciones_array.shape)\n",
    "print(\"Dimensiones de c_pred:\", c_pred.shape)"
   ]
  },
  {
   "cell_type": "code",
   "execution_count": null,
   "id": "273b3ffc-4c06-40bb-9fac-2e81d698b5f1",
   "metadata": {},
   "outputs": [],
   "source": []
  },
  {
   "cell_type": "code",
   "execution_count": 26,
   "id": "89ef9c37-163c-4816-b984-3961c25e2bb5",
   "metadata": {},
   "outputs": [],
   "source": [
    "costs_total_pred = np.sum(soluciones_matrix * c_pred, axis=1)\n"
   ]
  },
  {
   "cell_type": "code",
   "execution_count": 28,
   "id": "04de1e20-003e-4599-91a0-83ab21ac91fc",
   "metadata": {},
   "outputs": [
    {
     "data": {
      "text/plain": [
       "8.784218814881381"
      ]
     },
     "execution_count": 28,
     "metadata": {},
     "output_type": "execute_result"
    }
   ],
   "source": [
    "# Calcular el costo promedio con los c_pred\n",
    "average_cost_pred = np.mean(costs_total_pred)\n",
    "average_cost_pred"
   ]
  },
  {
   "cell_type": "code",
   "execution_count": 30,
   "id": "8ca93005-0437-4df0-bd7a-736bfae65812",
   "metadata": {},
   "outputs": [],
   "source": [
    "#calcular costo promrdio con los costos reales\n",
    "costs_total = np.sum(soluciones_matrix * c, axis=1)\n"
   ]
  },
  {
   "cell_type": "code",
   "execution_count": 32,
   "id": "13ad220b-8213-42f3-93df-157a114d7ada",
   "metadata": {},
   "outputs": [
    {
     "data": {
      "text/plain": [
       "8.657135201853649"
      ]
     },
     "execution_count": 32,
     "metadata": {},
     "output_type": "execute_result"
    }
   ],
   "source": [
    "# Calcular el costo promedio con los c_pred\n",
    "average_cost = np.mean(costs_total)\n",
    "average_cost"
   ]
  },
  {
   "cell_type": "code",
   "execution_count": 34,
   "id": "fef9078a-c697-47f4-bf30-61936f6292c6",
   "metadata": {},
   "outputs": [
    {
     "data": {
      "text/plain": [
       "-0.1270836130277324"
      ]
     },
     "execution_count": 34,
     "metadata": {},
     "output_type": "execute_result"
    }
   ],
   "source": [
    "Regret=(average_cost-average_cost_pred)\n",
    "Regret"
   ]
  },
  {
   "cell_type": "code",
   "execution_count": 36,
   "id": "6450b8ef-059f-41ce-8334-235465c7bbb6",
   "metadata": {},
   "outputs": [
    {
     "data": {
      "text/plain": [
       "-1.4679638248057107"
      ]
     },
     "execution_count": 36,
     "metadata": {},
     "output_type": "execute_result"
    }
   ],
   "source": [
    "regret_porcentual=Regret/ average_cost * 100 \n",
    "regret_porcentual"
   ]
  }
 ],
 "metadata": {
  "kernelspec": {
   "display_name": "Python 3 (ipykernel)",
   "language": "python",
   "name": "python3"
  },
  "language_info": {
   "codemirror_mode": {
    "name": "ipython",
    "version": 3
   },
   "file_extension": ".py",
   "mimetype": "text/x-python",
   "name": "python",
   "nbconvert_exporter": "python",
   "pygments_lexer": "ipython3",
   "version": "3.11.7"
  }
 },
 "nbformat": 4,
 "nbformat_minor": 5
}
